{
 "cells": [
  {
   "cell_type": "code",
   "execution_count": 1,
   "id": "d3a71344-7716-4381-b395-93be11c11ccb",
   "metadata": {},
   "outputs": [
    {
     "data": {
      "text/plain": [
       "\"\\nmultithreading:\\nWhen programmers run a simple program of Python, execution starts at the first line and proceeds line-by-line.\\nAlso, functions and loops may be the reason for program execution to jump, but it is relatively easy to see its\\nworking procedures and which line will be next executed. Programmers can put their fingers and can trace the \\nlines of codes that will be executed; this is called single-threaded programming.\\nHowever, in the case of multi-threaded programming, it's like putting a second finger on your program. Both the fingers move\\nthe same way and will be executed simultaneously.\\n\\nUses\\nFor a single process, multiple threads can be used to process and share the same data-space and can communicate with\\neach other by sharing information.\\nThey use lesser memory overhead, and hence they are called lightweight processes.\\nA program can remain responsive to input when threads are used.\\nThreads can share and process the global variable's memory.\\nIn a thread, there are three different parts. It has the beginning, an execution part, and a conclusion. \\nIt also has an instruction pointer that points to where the thread or process is currently running, and hence the thread can run several different program blocks concurrently.\\n\\nthe module\\nthreading.activeCount() − Returns the number of thread objects that are active.\\n\\nthreading.currentThread() − Returns the number of thread objects in the caller's thread control.\\n\\nthreading.enumerate() − Returns a list of all thread objects that are currently active.\\n\""
      ]
     },
     "execution_count": 1,
     "metadata": {},
     "output_type": "execute_result"
    }
   ],
   "source": [
    "#Problem_1\n",
    "\"\"\"\n",
    "multithreading:\n",
    "Multithreading is the ability of a program or an operating system to enable more than one user at a time \n",
    "without requiring multiple copies of the program running on the computer. Multithreading can also handle \n",
    "various requests from the same user. Each user request for a program or system service is tracked as a \n",
    "thread with a separate identity. As programs work on behalf of the initial thread request and are interrupted\n",
    "by other demands, the work status of the initial request is tracked until the work is completed. \n",
    "If you wish to save time and improve performance, you should use multithreading in Python!\n",
    "\n",
    "Multithreading in Python is a popular technique that enables multiple tasks to be executed simultaneously. \n",
    "In simple words, the ability of a processor to execute multiple threads simultaneously is known as multithreading.\n",
    "Python multithreading facilitates sharing data space and resources of multiple threads with the main thread. \n",
    "\n",
    "It allows efficient and easy communication between the threads.\n",
    "\n",
    "Uses\n",
    "For a single process, multiple threads can be used to process and share the same data-space and can communicate with\n",
    "each other by sharing information.\n",
    "They use lesser memory overhead, and hence they are called lightweight processes.\n",
    "A program can remain responsive to input when threads are used.\n",
    "Threads can share and process the global variable's memory.\n",
    "In a thread, there are three different parts. It has the beginning, an execution part, and a conclusion. \n",
    "It also has an instruction pointer that points to where the thread or process is currently running, and hence the thread can run several different program blocks concurrently.\n",
    "\n",
    "the module\n",
    "threading.activeCount() − Returns the number of thread objects that are active.\n",
    "\n",
    "threading.currentThread() − Returns the number of thread objects in the caller's thread control.\n",
    "\n",
    "threading.enumerate() − Returns a list of all thread objects that are currently active.\n",
    "\"\"\"\n"
   ]
  },
  {
   "cell_type": "code",
   "execution_count": 2,
   "id": "63e17a37-a428-4056-b1a2-daf619d9acde",
   "metadata": {},
   "outputs": [
    {
     "data": {
      "text/plain": [
       "\"\\nThe threading module exposes all the methods of the thread module and provides some additional methods −\\n\\nthreading.activeCount() − Returns the number of thread objects that are active.\\n\\nthreading.currentThread() − Returns the number of thread objects in the caller's thread control.\\n\\nthreading.enumerate() − Returns a list of all thread objects that are currently active.\\n\""
      ]
     },
     "execution_count": 2,
     "metadata": {},
     "output_type": "execute_result"
    }
   ],
   "source": [
    "#Problem_2\n",
    "\"\"\"\n",
    "The threading module exposes all the methods of the thread module and provides some additional methods −\n",
    "\n",
    "threading.activeCount() − Returns the number of thread objects that are active.\n",
    "\n",
    "threading.currentThread() − Returns the number of thread objects in the caller's thread control.\n",
    "\n",
    "threading.enumerate() − Returns a list of all thread objects that are currently active.\n",
    "\"\"\""
   ]
  },
  {
   "cell_type": "code",
   "execution_count": 4,
   "id": "f3dd3e85-aa09-4428-be03-6f78a4ee0602",
   "metadata": {},
   "outputs": [
    {
     "data": {
      "text/plain": [
       "'\\nrun() − The run() method is the entry point for a thread.\\n\\nstart() − The start() method starts a thread by calling the run method.\\n\\njoin([time]) − The join() waits for threads to terminate.\\n\\nisAlive() − The isAlive() method checks whether a thread is still executing.\\n\\n'"
      ]
     },
     "execution_count": 4,
     "metadata": {},
     "output_type": "execute_result"
    }
   ],
   "source": [
    "#Problem_3\n",
    "\"\"\"\n",
    "run() − The run() method is the entry point for a thread.\n",
    "\n",
    "start() − The start() method starts a thread by calling the run method.\n",
    "\n",
    "join([time]) − The join() waits for threads to terminate.\n",
    "\n",
    "isAlive() − The isAlive() method checks whether a thread is still executing.\n",
    "\n",
    "\"\"\""
   ]
  },
  {
   "cell_type": "code",
   "execution_count": 5,
   "id": "b698f530-2977-42a4-83e2-8cadd3280839",
   "metadata": {},
   "outputs": [
    {
     "name": "stdout",
     "output_type": "stream",
     "text": [
      "Square: 100\n",
      "Cube: 1000\n"
     ]
    }
   ],
   "source": [
    "#Problem_4\n",
    "\n",
    "import threading\n",
    "\n",
    "\n",
    "def print_cube(num):\n",
    "\t# function to print cube of given num\n",
    "\tprint(\"Cube: {}\" .format(num * num * num))\n",
    "\n",
    "\n",
    "def print_square(num):\n",
    "\t# function to print square of given num\n",
    "\tprint(\"Square: {}\" .format(num * num))\n",
    "\n",
    "\n",
    "if __name__ ==\"__main__\":\n",
    "\t\n",
    "\tt1 = threading.Thread(target=print_square, args=(10,))\n",
    "\tt2 = threading.Thread(target=print_cube, args=(10,))\n",
    "\n",
    "\t\n",
    "\tt1.start()\n",
    "\t\n",
    "\tt2.start()\n",
    "\n",
    "\t\n",
    "\tt1.join()\n",
    "\t\n",
    "\tt2.join()\n",
    "\n"
   ]
  },
  {
   "cell_type": "code",
   "execution_count": 7,
   "id": "fdeefa29-5f20-487b-baf1-868ba4796a2d",
   "metadata": {},
   "outputs": [
    {
     "data": {
      "text/plain": [
       "'\\nDifficulty of writing code\\nDifficulty of debugging\\nDifficulty of managing concurrency\\nDifficulty of testing\\nDifficulty of porting existing code\\n'"
      ]
     },
     "execution_count": 7,
     "metadata": {},
     "output_type": "execute_result"
    }
   ],
   "source": [
    "#Problem_5\n",
    "#Advantages of multithreading\n",
    "\"\"\"\n",
    "Improved performance and concurrency\n",
    "Simplified coding of remote procedure calls and conversations\n",
    "Simultaneous access to multiple applications\n",
    "\n",
    "\"\"\"\n",
    "#disadvantages of multithreading\n",
    "\"\"\"\n",
    "Difficulty of writing code\n",
    "Difficulty of debugging\n",
    "Difficulty of managing concurrency\n",
    "Difficulty of testing\n",
    "Difficulty of porting existing code\n",
    "\"\"\""
   ]
  },
  {
   "cell_type": "code",
   "execution_count": null,
   "id": "d5e3093b-710e-4afa-bbdb-e792d46a4686",
   "metadata": {},
   "outputs": [],
   "source": [
    "#Problem_6\n",
    "\"\"\"\n",
    "A deadlock is when two (or more) threads are blocking each other. Usually this has something to do with threads \n",
    "trying to acquire shared resources. For example if threads T1 and T2 need to acquire both resources A and B\n",
    "in order to do their work. If T1 acquires resource A, then T2 acquires resource B, T1 could then be waiting \n",
    "for resource B while T2 was waiting for resource A. In this case, both threads will wait indefinitely for \n",
    "the resource held by the other thread. These threads are said to be deadlocked.\n",
    "\n",
    "\n",
    "\n",
    "\n",
    "Race conditions occur when two threads interact in a negatve (buggy) way depending on the exact order that \n",
    "their different instructions are executed. If one thread sets a global variable, for example, then a second thread reads and modifies that global variable, and the first thread reads the variable, the first thread may experience a bug because the variable has changed unexpectedly."
   ]
  }
 ],
 "metadata": {
  "kernelspec": {
   "display_name": "Python 3 (ipykernel)",
   "language": "python",
   "name": "python3"
  },
  "language_info": {
   "codemirror_mode": {
    "name": "ipython",
    "version": 3
   },
   "file_extension": ".py",
   "mimetype": "text/x-python",
   "name": "python",
   "nbconvert_exporter": "python",
   "pygments_lexer": "ipython3",
   "version": "3.10.8"
  }
 },
 "nbformat": 4,
 "nbformat_minor": 5
}
